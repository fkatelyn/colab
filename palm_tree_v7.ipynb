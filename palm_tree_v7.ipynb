{
  "cells": [
    {
      "cell_type": "markdown",
      "metadata": {
        "id": "view-in-github",
        "colab_type": "text"
      },
      "source": [
        "<a href=\"https://colab.research.google.com/github/fkatelyn/colab/blob/master/palm_tree_v7.ipynb\" target=\"_parent\"><img src=\"https://colab.research.google.com/assets/colab-badge.svg\" alt=\"Open In Colab\"/></a>"
      ]
    },
    {
      "cell_type": "markdown",
      "source": [
        "## Palm Oil Tree detection training version 7\n",
        "\n",
        "Image Size = 640x640\n",
        "Model Size = Small\n",
        "Epoch = 200\n",
        "\n"
      ],
      "metadata": {
        "id": "hELWLyRNnDLI"
      }
    },
    {
      "cell_type": "code",
      "source": [
        "MODEL_VERSION = '7'"
      ],
      "metadata": {
        "id": "5fAOlNyYaNHZ"
      },
      "execution_count": 60,
      "outputs": []
    },
    {
      "cell_type": "code",
      "execution_count": 61,
      "metadata": {
        "colab": {
          "base_uri": "https://localhost:8080/"
        },
        "id": "Y8cDtxLIBHgQ",
        "outputId": "f0f051ee-d6f1-441d-e4ef-8c4018e9d259"
      },
      "outputs": [
        {
          "output_type": "stream",
          "name": "stdout",
          "text": [
            "Tue Sep 19 21:49:20 2023       \n",
            "+-----------------------------------------------------------------------------+\n",
            "| NVIDIA-SMI 525.105.17   Driver Version: 525.105.17   CUDA Version: 12.0     |\n",
            "|-------------------------------+----------------------+----------------------+\n",
            "| GPU  Name        Persistence-M| Bus-Id        Disp.A | Volatile Uncorr. ECC |\n",
            "| Fan  Temp  Perf  Pwr:Usage/Cap|         Memory-Usage | GPU-Util  Compute M. |\n",
            "|                               |                      |               MIG M. |\n",
            "|===============================+======================+======================|\n",
            "|   0  Tesla V100-SXM2...  Off  | 00000000:00:04.0 Off |                    0 |\n",
            "| N/A   35C    P0    24W / 300W |      2MiB / 16384MiB |      0%      Default |\n",
            "|                               |                      |                  N/A |\n",
            "+-------------------------------+----------------------+----------------------+\n",
            "                                                                               \n",
            "+-----------------------------------------------------------------------------+\n",
            "| Processes:                                                                  |\n",
            "|  GPU   GI   CI        PID   Type   Process name                  GPU Memory |\n",
            "|        ID   ID                                                   Usage      |\n",
            "|=============================================================================|\n",
            "|  No running processes found                                                 |\n",
            "+-----------------------------------------------------------------------------+\n"
          ]
        }
      ],
      "source": [
        "!nvidia-smi"
      ]
    },
    {
      "cell_type": "code",
      "execution_count": 62,
      "metadata": {
        "colab": {
          "base_uri": "https://localhost:8080/"
        },
        "id": "CjpPg4mGKc1v",
        "outputId": "3ba83b85-5aec-40e5-fbc7-5f851948d735"
      },
      "outputs": [
        {
          "output_type": "stream",
          "name": "stdout",
          "text": [
            "/content\n",
            "Drive already mounted at /content/drive; to attempt to forcibly remount, call drive.mount(\"/content/drive\", force_remount=True).\n"
          ]
        }
      ],
      "source": [
        "import os\n",
        "HOME = os.getcwd()\n",
        "HOME = '/content'\n",
        "print(HOME)\n",
        "\n",
        "from google.colab import drive\n",
        "GOOGLE_DRIVE = f'{HOME}/drive'\n",
        "drive.mount(GOOGLE_DRIVE)"
      ]
    },
    {
      "cell_type": "code",
      "source": [
        "class Experiment:\n",
        "  '''\n",
        "  Google drive path:\n",
        "\n",
        "  PROJECT_DRIVE = MyDrive/ai/projects/palmtree\n",
        "  EXPERIMENT_DRIVE = MyDrive/ai/projects/palmtree/experiments\n",
        "  UPLOAD_DRIVE = MyDrive/ai/projects/palmtree/uploads\n",
        "  DATASET_DRIVE = MyDrive/ai/projects/palmtree/datasets\n",
        "  '''\n",
        "  EPOCHS = 200\n",
        "  IMGSZ = 640\n",
        "  MODEL_NAME = \"yolov8s\"\n",
        "  EXPERIMENT_HOME = f'{HOME}/experiments/{MODEL_VERSION}'\n",
        "  DATASET_HOME = f'{HOME}/datasets/palm-tree-detection-{MODEL_VERSION}'\n",
        "\n",
        "  PROJECT_DRIVE = f'{GOOGLE_DRIVE}/MyDrive/ai/projects/palmtree'\n",
        "  EXPERIMENT_DRIVE = f'{PROJECT_DRIVE}/experiments/{MODEL_VERSION}'\n",
        "  DATASET_DRIVE = f'{PROJECT_DRIVE}/datasets/palm-tree-detection-{MODEL_VERSION}'\n",
        "  WEIGHTS_DRIVE = f'{PROJECT_DRIVE}/weights/{MODEL_VERSION}'\n",
        "\n",
        "\n",
        "print(Experiment.EXPERIMENT_HOME)\n"
      ],
      "metadata": {
        "colab": {
          "base_uri": "https://localhost:8080/"
        },
        "id": "EgspsrL8EeyX",
        "outputId": "00205708-e632-4615-fd65-ccaa8eb887df"
      },
      "execution_count": 63,
      "outputs": [
        {
          "output_type": "stream",
          "name": "stdout",
          "text": [
            "/content/experiments/7\n"
          ]
        }
      ]
    },
    {
      "cell_type": "code",
      "execution_count": 64,
      "metadata": {
        "colab": {
          "base_uri": "https://localhost:8080/"
        },
        "id": "tdSMcABDNKW-",
        "outputId": "caf00596-a5ca-48b9-e221-3b53e3f02160"
      },
      "outputs": [
        {
          "output_type": "stream",
          "name": "stderr",
          "text": [
            "Ultralytics YOLOv8.0.134 🚀 Python-3.10.12 torch-2.0.1+cu118 CUDA:0 (Tesla V100-SXM2-16GB, 16151MiB)\n",
            "Setup complete ✅ (8 CPUs, 51.0 GB RAM, 26.5/166.8 GB disk)\n"
          ]
        }
      ],
      "source": [
        "\n",
        "!pip install ultralytics==8.0.134\n",
        "\n",
        "from IPython import display\n",
        "display.clear_output()\n",
        "\n",
        "import ultralytics\n",
        "ultralytics.checks()"
      ]
    },
    {
      "cell_type": "code",
      "execution_count": 65,
      "metadata": {
        "id": "iVvaIYEEPOty",
        "colab": {
          "base_uri": "https://localhost:8080/"
        },
        "outputId": "07d1bc40-f27a-4c17-8bb7-41ce3695bce1"
      },
      "outputs": [
        {
          "output_type": "stream",
          "name": "stdout",
          "text": [
            "/content\n",
            "datasets  drive  experiments\n"
          ]
        }
      ],
      "source": [
        "%cd {HOME}\n",
        "%mkdir -p {Experiment.EXPERIMENT_HOME}\n",
        "%mkdir -p {Experiment.DATASET_HOME}\n",
        "%mkdir -p {Experiment.EXPERIMENT_DRIVE}\n",
        "%mkdir -p {Experiment.WEIGHTS_DRIVE}\n",
        "\n",
        "!cp -fpR {Experiment.DATASET_DRIVE} /content/datasets/\n",
        "!ls /content"
      ]
    },
    {
      "cell_type": "code",
      "execution_count": 66,
      "metadata": {
        "id": "VOEYrlBoP9-E"
      },
      "outputs": [],
      "source": [
        "from ultralytics import YOLO\n",
        "\n",
        "from IPython.display import display, Image"
      ]
    },
    {
      "cell_type": "markdown",
      "metadata": {
        "id": "AFMBYQtMVL-B"
      },
      "source": [
        "### 🐍 Python SDK\n",
        "\n",
        "The simplest way of simply using YOLOv8 directly in a Python environment."
      ]
    },
    {
      "cell_type": "code",
      "execution_count": 67,
      "metadata": {
        "id": "Rx9NWF-sVN6Y"
      },
      "outputs": [],
      "source": [
        "#model = YOLO(f'{HOME}/yolov8s.pt')\n",
        "#results = model.predict(source='https://media.roboflow.com/notebooks/examples/dog.jpeg', conf=0.25)"
      ]
    },
    {
      "cell_type": "code",
      "execution_count": 68,
      "metadata": {
        "id": "kAi4PvrItTCf"
      },
      "outputs": [],
      "source": [
        "#results[0].boxes.xyxy"
      ]
    },
    {
      "cell_type": "code",
      "execution_count": 69,
      "metadata": {
        "id": "HqT2M01K1LUb"
      },
      "outputs": [],
      "source": [
        "#results[0].boxes.conf"
      ]
    },
    {
      "cell_type": "code",
      "execution_count": 70,
      "metadata": {
        "id": "gKIwJ5yw1PMb"
      },
      "outputs": [],
      "source": [
        "#results[0].boxes.cls"
      ]
    },
    {
      "cell_type": "markdown",
      "metadata": {
        "id": "YUjFBKKqXa-u"
      },
      "source": [
        "## Custom Training"
      ]
    },
    {
      "cell_type": "code",
      "source": [
        "class Dataset:\n",
        "  def __init__(self, location):\n",
        "    self.location = location\n",
        "\n",
        "\n",
        "dataset = Dataset(location=Experiment.DATASET_HOME)\n",
        "!rm -fR {Experiment.EXPERIMENT_HOME}/runs\n",
        "!mkdir -p {Experiment.EXPERIMENT_HOME}/runs\n",
        "\n"
      ],
      "metadata": {
        "id": "Ui0MUkCrZiun"
      },
      "execution_count": 71,
      "outputs": []
    },
    {
      "cell_type": "code",
      "execution_count": null,
      "metadata": {
        "colab": {
          "base_uri": "https://localhost:8080/"
        },
        "id": "D2YkphuiaE7_",
        "outputId": "68c57282-f68b-4f52-9c4e-1baa09dc964f"
      },
      "outputs": [
        {
          "output_type": "stream",
          "name": "stdout",
          "text": [
            "/content/experiments/7\n",
            "New https://pypi.org/project/ultralytics/8.0.182 available 😃 Update with 'pip install -U ultralytics'\n",
            "Ultralytics YOLOv8.0.134 🚀 Python-3.10.12 torch-2.0.1+cu118 CUDA:0 (Tesla V100-SXM2-16GB, 16151MiB)\n",
            "\u001b[34m\u001b[1myolo/engine/trainer: \u001b[0mtask=detect, mode=train, model=yolov8s.pt, data=/content/datasets/palm-tree-detection-7/data.yaml, epochs=200, patience=50, batch=16, imgsz=640, save=True, save_period=-1, cache=False, device=None, workers=8, project=None, name=None, exist_ok=False, pretrained=True, optimizer=auto, verbose=True, seed=0, deterministic=True, single_cls=False, rect=False, cos_lr=False, close_mosaic=10, resume=False, amp=True, fraction=1.0, profile=False, overlap_mask=True, mask_ratio=4, dropout=0.0, val=True, split=val, save_json=False, save_hybrid=False, conf=None, iou=0.7, max_det=300, half=False, dnn=False, plots=True, source=None, show=False, save_txt=False, save_conf=False, save_crop=False, show_labels=True, show_conf=True, vid_stride=1, line_width=None, visualize=False, augment=False, agnostic_nms=False, classes=None, retina_masks=False, boxes=True, format=torchscript, keras=False, optimize=False, int8=False, dynamic=False, simplify=False, opset=None, workspace=4, nms=False, lr0=0.01, lrf=0.01, momentum=0.937, weight_decay=0.0005, warmup_epochs=3.0, warmup_momentum=0.8, warmup_bias_lr=0.1, box=7.5, cls=0.5, dfl=1.5, pose=12.0, kobj=1.0, label_smoothing=0.0, nbs=64, hsv_h=0.015, hsv_s=0.7, hsv_v=0.4, degrees=0.0, translate=0.1, scale=0.5, shear=0.0, perspective=0.0, flipud=0.0, fliplr=0.5, mosaic=1.0, mixup=0.0, copy_paste=0.0, cfg=None, v5loader=False, tracker=botsort.yaml, save_dir=runs/detect/train\n",
            "Overriding model.yaml nc=80 with nc=6\n",
            "\n",
            "                   from  n    params  module                                       arguments                     \n",
            "  0                  -1  1       928  ultralytics.nn.modules.conv.Conv             [3, 32, 3, 2]                 \n",
            "  1                  -1  1     18560  ultralytics.nn.modules.conv.Conv             [32, 64, 3, 2]                \n",
            "  2                  -1  1     29056  ultralytics.nn.modules.block.C2f             [64, 64, 1, True]             \n",
            "  3                  -1  1     73984  ultralytics.nn.modules.conv.Conv             [64, 128, 3, 2]               \n",
            "  4                  -1  2    197632  ultralytics.nn.modules.block.C2f             [128, 128, 2, True]           \n",
            "  5                  -1  1    295424  ultralytics.nn.modules.conv.Conv             [128, 256, 3, 2]              \n",
            "  6                  -1  2    788480  ultralytics.nn.modules.block.C2f             [256, 256, 2, True]           \n",
            "  7                  -1  1   1180672  ultralytics.nn.modules.conv.Conv             [256, 512, 3, 2]              \n",
            "  8                  -1  1   1838080  ultralytics.nn.modules.block.C2f             [512, 512, 1, True]           \n",
            "  9                  -1  1    656896  ultralytics.nn.modules.block.SPPF            [512, 512, 5]                 \n",
            " 10                  -1  1         0  torch.nn.modules.upsampling.Upsample         [None, 2, 'nearest']          \n",
            " 11             [-1, 6]  1         0  ultralytics.nn.modules.conv.Concat           [1]                           \n",
            " 12                  -1  1    591360  ultralytics.nn.modules.block.C2f             [768, 256, 1]                 \n",
            " 13                  -1  1         0  torch.nn.modules.upsampling.Upsample         [None, 2, 'nearest']          \n",
            " 14             [-1, 4]  1         0  ultralytics.nn.modules.conv.Concat           [1]                           \n",
            " 15                  -1  1    148224  ultralytics.nn.modules.block.C2f             [384, 128, 1]                 \n",
            " 16                  -1  1    147712  ultralytics.nn.modules.conv.Conv             [128, 128, 3, 2]              \n",
            " 17            [-1, 12]  1         0  ultralytics.nn.modules.conv.Concat           [1]                           \n",
            " 18                  -1  1    493056  ultralytics.nn.modules.block.C2f             [384, 256, 1]                 \n",
            " 19                  -1  1    590336  ultralytics.nn.modules.conv.Conv             [256, 256, 3, 2]              \n",
            " 20             [-1, 9]  1         0  ultralytics.nn.modules.conv.Concat           [1]                           \n",
            " 21                  -1  1   1969152  ultralytics.nn.modules.block.C2f             [768, 512, 1]                 \n",
            " 22        [15, 18, 21]  1   2118370  ultralytics.nn.modules.head.Detect           [6, [128, 256, 512]]          \n",
            "Model summary: 225 layers, 11137922 parameters, 11137906 gradients\n",
            "\n",
            "Transferred 349/355 items from pretrained weights\n",
            "\u001b[34m\u001b[1mTensorBoard: \u001b[0mStart with 'tensorboard --logdir runs/detect/train', view at http://localhost:6006/\n",
            "\u001b[34m\u001b[1mAMP: \u001b[0mrunning Automatic Mixed Precision (AMP) checks with YOLOv8n...\n",
            "\u001b[34m\u001b[1mAMP: \u001b[0mchecks passed ✅\n",
            "\u001b[34m\u001b[1mtrain: \u001b[0mScanning /content/datasets/palm-tree-detection-7/train/labels.cache... 72 images, 0 backgrounds, 0 corrupt: 100% 72/72 [00:00<?, ?it/s]\n",
            "\u001b[34m\u001b[1malbumentations: \u001b[0mBlur(p=0.01, blur_limit=(3, 7)), MedianBlur(p=0.01, blur_limit=(3, 7)), ToGray(p=0.01), CLAHE(p=0.01, clip_limit=(1, 4.0), tile_grid_size=(8, 8))\n",
            "\u001b[34m\u001b[1mval: \u001b[0mScanning /content/datasets/palm-tree-detection-7/valid/labels.cache... 7 images, 0 backgrounds, 0 corrupt: 100% 7/7 [00:00<?, ?it/s]\n",
            "Plotting labels to runs/detect/train/labels.jpg... \n",
            "\u001b[34m\u001b[1moptimizer:\u001b[0m AdamW(lr=0.001, momentum=0.9) with parameter groups 57 weight(decay=0.0), 64 weight(decay=0.0005), 63 bias(decay=0.0)\n",
            "Image sizes 640 train, 640 val\n",
            "Using 8 dataloader workers\n",
            "Logging results to \u001b[1mruns/detect/train\u001b[0m\n",
            "Starting training for 200 epochs...\n",
            "\n",
            "      Epoch    GPU_mem   box_loss   cls_loss   dfl_loss  Instances       Size\n",
            "      1/200      5.78G      3.489      5.035      2.448       2755        640: 100% 5/5 [00:43<00:00,  8.66s/it]\n",
            "                 Class     Images  Instances      Box(P          R      mAP50  mAP50-95): 100% 1/1 [00:00<00:00,  3.64it/s]\n",
            "                   all          7        610      0.405     0.0125    0.00192   0.000521\n",
            "\n",
            "      Epoch    GPU_mem   box_loss   cls_loss   dfl_loss  Instances       Size\n",
            "      2/200      6.24G      3.439      4.742      2.308       2269        640: 100% 5/5 [00:00<00:00,  6.55it/s]\n",
            "                 Class     Images  Instances      Box(P          R      mAP50  mAP50-95): 100% 1/1 [00:00<00:00,  3.68it/s]\n",
            "                   all          7        610      0.135      0.119     0.0708     0.0325\n",
            "\n",
            "      Epoch    GPU_mem   box_loss   cls_loss   dfl_loss  Instances       Size\n",
            "      3/200      6.01G      2.809      3.752      1.897       1104        640: 100% 5/5 [00:00<00:00,  6.53it/s]\n",
            "                 Class     Images  Instances      Box(P          R      mAP50  mAP50-95): 100% 1/1 [00:00<00:00,  1.94it/s]\n",
            "                   all          7        610      0.252      0.114     0.0712     0.0269\n",
            "\n",
            "      Epoch    GPU_mem   box_loss   cls_loss   dfl_loss  Instances       Size\n",
            "      4/200      6.93G      2.516      2.558      1.673       1156        640: 100% 5/5 [00:00<00:00,  7.29it/s]\n",
            "                 Class     Images  Instances      Box(P          R      mAP50  mAP50-95): 100% 1/1 [00:00<00:00,  2.14it/s]\n",
            "                   all          7        610      0.462      0.156      0.189     0.0931\n",
            "\n",
            "      Epoch    GPU_mem   box_loss   cls_loss   dfl_loss  Instances       Size\n",
            "      5/200      6.77G      2.348      2.095      1.538       1645        640: 100% 5/5 [00:00<00:00,  6.69it/s]\n",
            "                 Class     Images  Instances      Box(P          R      mAP50  mAP50-95): 100% 1/1 [00:00<00:00,  2.20it/s]\n",
            "                   all          7        610      0.151      0.208      0.167     0.0806\n",
            "\n",
            "      Epoch    GPU_mem   box_loss   cls_loss   dfl_loss  Instances       Size\n",
            "      6/200      7.33G      2.256      1.907      1.445       1048        640: 100% 5/5 [00:00<00:00,  6.92it/s]\n",
            "                 Class     Images  Instances      Box(P          R      mAP50  mAP50-95): 100% 1/1 [00:00<00:00,  3.30it/s]\n",
            "                   all          7        610      0.164      0.327       0.22     0.0961\n",
            "\n",
            "      Epoch    GPU_mem   box_loss   cls_loss   dfl_loss  Instances       Size\n",
            "      7/200      9.03G      2.094       1.69      1.358        864        640: 100% 5/5 [00:00<00:00,  6.55it/s]\n",
            "                 Class     Images  Instances      Box(P          R      mAP50  mAP50-95): 100% 1/1 [00:00<00:00,  4.40it/s]\n",
            "                   all          7        610      0.362      0.365      0.218      0.102\n",
            "\n",
            "      Epoch    GPU_mem   box_loss   cls_loss   dfl_loss  Instances       Size\n",
            "      8/200      6.58G      2.087      1.559      1.354       2412        640: 100% 5/5 [00:00<00:00,  6.68it/s]\n",
            "                 Class     Images  Instances      Box(P          R      mAP50  mAP50-95): 100% 1/1 [00:00<00:00,  4.67it/s]\n",
            "                   all          7        610      0.378      0.305      0.202      0.099\n",
            "\n",
            "      Epoch    GPU_mem   box_loss   cls_loss   dfl_loss  Instances       Size\n",
            "      9/200      7.69G      2.095      1.519      1.358       1247        640: 100% 5/5 [00:00<00:00,  6.57it/s]\n",
            "                 Class     Images  Instances      Box(P          R      mAP50  mAP50-95): 100% 1/1 [00:00<00:00,  5.39it/s]\n",
            "                   all          7        610      0.601      0.332      0.229      0.108\n",
            "\n",
            "      Epoch    GPU_mem   box_loss   cls_loss   dfl_loss  Instances       Size\n",
            "     10/200      6.97G      1.997      1.479      1.338       1786        640: 100% 5/5 [00:00<00:00,  7.55it/s]\n",
            "                 Class     Images  Instances      Box(P          R      mAP50  mAP50-95): 100% 1/1 [00:00<00:00,  7.36it/s]\n",
            "                   all          7        610       0.43      0.373      0.278      0.134\n",
            "\n",
            "      Epoch    GPU_mem   box_loss   cls_loss   dfl_loss  Instances       Size\n",
            "     11/200      8.91G      1.912      1.405       1.31       1187        640: 100% 5/5 [00:00<00:00,  7.52it/s]\n",
            "                 Class     Images  Instances      Box(P          R      mAP50  mAP50-95): 100% 1/1 [00:00<00:00, 10.08it/s]\n",
            "                   all          7        610      0.625      0.318      0.269       0.13\n",
            "\n",
            "      Epoch    GPU_mem   box_loss   cls_loss   dfl_loss  Instances       Size\n",
            "     12/200      5.96G      1.907       1.32      1.294       1499        640: 100% 5/5 [00:00<00:00,  7.16it/s]\n",
            "                 Class     Images  Instances      Box(P          R      mAP50  mAP50-95): 100% 1/1 [00:00<00:00,  8.75it/s]\n",
            "                   all          7        610      0.665        0.3      0.266      0.126\n",
            "\n",
            "      Epoch    GPU_mem   box_loss   cls_loss   dfl_loss  Instances       Size\n",
            "     13/200      7.89G      1.916      1.428      1.356        744        640: 100% 5/5 [00:00<00:00,  7.90it/s]\n",
            "                 Class     Images  Instances      Box(P          R      mAP50  mAP50-95): 100% 1/1 [00:00<00:00,  9.23it/s]\n",
            "                   all          7        610      0.649      0.278      0.256      0.123\n",
            "\n",
            "      Epoch    GPU_mem   box_loss   cls_loss   dfl_loss  Instances       Size\n",
            "     14/200      8.36G       1.86      1.349      1.284       1701        640: 100% 5/5 [00:00<00:00,  7.44it/s]\n",
            "                 Class     Images  Instances      Box(P          R      mAP50  mAP50-95): 100% 1/1 [00:00<00:00,  8.80it/s]\n",
            "                   all          7        610      0.472      0.291      0.268      0.129\n",
            "\n",
            "      Epoch    GPU_mem   box_loss   cls_loss   dfl_loss  Instances       Size\n",
            "     15/200      6.28G      1.882      1.351      1.303       1006        640: 100% 5/5 [00:00<00:00,  7.05it/s]\n",
            "                 Class     Images  Instances      Box(P          R      mAP50  mAP50-95): 100% 1/1 [00:00<00:00,  8.40it/s]\n",
            "                   all          7        610      0.665      0.298      0.321      0.147\n",
            "\n",
            "      Epoch    GPU_mem   box_loss   cls_loss   dfl_loss  Instances       Size\n",
            "     16/200      7.39G      1.906      1.289      1.256       1653        640: 100% 5/5 [00:00<00:00,  7.23it/s]\n",
            "                 Class     Images  Instances      Box(P          R      mAP50  mAP50-95): 100% 1/1 [00:00<00:00,  8.55it/s]\n",
            "                   all          7        610      0.329       0.41       0.37      0.168\n",
            "\n",
            "      Epoch    GPU_mem   box_loss   cls_loss   dfl_loss  Instances       Size\n",
            "     17/200      6.85G      1.848      1.273      1.247       1699        640: 100% 5/5 [00:00<00:00,  6.97it/s]\n",
            "                 Class     Images  Instances      Box(P          R      mAP50  mAP50-95): 100% 1/1 [00:00<00:00,  9.82it/s]\n",
            "                   all          7        610      0.287      0.435      0.327      0.151\n",
            "\n",
            "      Epoch    GPU_mem   box_loss   cls_loss   dfl_loss  Instances       Size\n",
            "     18/200      5.84G      1.858      1.363      1.256       1482        640: 100% 5/5 [00:00<00:00,  7.29it/s]\n",
            "                 Class     Images  Instances      Box(P          R      mAP50  mAP50-95): 100% 1/1 [00:00<00:00,  8.20it/s]\n",
            "                   all          7        610      0.247       0.42      0.288      0.148\n",
            "\n",
            "      Epoch    GPU_mem   box_loss   cls_loss   dfl_loss  Instances       Size\n",
            "     19/200      6.63G      1.927      1.365      1.275       2103        640: 100% 5/5 [00:00<00:00,  7.68it/s]\n",
            "                 Class     Images  Instances      Box(P          R      mAP50  mAP50-95): 100% 1/1 [00:00<00:00,  9.15it/s]\n",
            "                   all          7        610      0.645      0.316       0.28      0.132\n",
            "\n",
            "      Epoch    GPU_mem   box_loss   cls_loss   dfl_loss  Instances       Size\n",
            "     20/200      7.92G      1.858      1.273      1.273       1790        640: 100% 5/5 [00:00<00:00,  6.90it/s]\n",
            "                 Class     Images  Instances      Box(P          R      mAP50  mAP50-95): 100% 1/1 [00:00<00:00,  7.36it/s]\n",
            "                   all          7        610      0.249      0.285      0.228     0.0974\n",
            "\n",
            "      Epoch    GPU_mem   box_loss   cls_loss   dfl_loss  Instances       Size\n",
            "     21/200      9.66G      1.874      1.269      1.253       2641        640: 100% 5/5 [00:00<00:00,  6.86it/s]\n",
            "                 Class     Images  Instances      Box(P          R      mAP50  mAP50-95): 100% 1/1 [00:00<00:00,  6.13it/s]\n",
            "                   all          7        610      0.235      0.262      0.225      0.105\n",
            "\n",
            "      Epoch    GPU_mem   box_loss   cls_loss   dfl_loss  Instances       Size\n",
            "     22/200      7.73G      1.858      1.291      1.277       1498        640: 100% 5/5 [00:00<00:00,  7.50it/s]\n",
            "                 Class     Images  Instances      Box(P          R      mAP50  mAP50-95): 100% 1/1 [00:00<00:00,  7.57it/s]\n",
            "                   all          7        610       0.41      0.333      0.319      0.147\n",
            "\n",
            "      Epoch    GPU_mem   box_loss   cls_loss   dfl_loss  Instances       Size\n",
            "     23/200      5.64G       1.84      1.293      1.261       1378        640: 100% 5/5 [00:00<00:00,  7.84it/s]\n",
            "                 Class     Images  Instances      Box(P          R      mAP50  mAP50-95): 100% 1/1 [00:00<00:00, 10.67it/s]\n",
            "                   all          7        610      0.395      0.306       0.26      0.121\n",
            "\n",
            "      Epoch    GPU_mem   box_loss   cls_loss   dfl_loss  Instances       Size\n",
            "     24/200      6.57G      1.833      1.263      1.267       1242        640: 100% 5/5 [00:00<00:00,  7.42it/s]\n",
            "                 Class     Images  Instances      Box(P          R      mAP50  mAP50-95): 100% 1/1 [00:00<00:00,  8.01it/s]\n",
            "                   all          7        610      0.156       0.47      0.218     0.0936\n",
            "\n",
            "      Epoch    GPU_mem   box_loss   cls_loss   dfl_loss  Instances       Size\n",
            "     25/200      6.26G      1.752      1.225      1.234       1365        640: 100% 5/5 [00:00<00:00,  6.94it/s]\n",
            "                 Class     Images  Instances      Box(P          R      mAP50  mAP50-95): 100% 1/1 [00:00<00:00,  7.46it/s]\n",
            "                   all          7        610       0.37      0.347      0.203     0.0881\n",
            "\n",
            "      Epoch    GPU_mem   box_loss   cls_loss   dfl_loss  Instances       Size\n",
            "     26/200      8.97G       1.79      1.276      1.243       1593        640: 100% 5/5 [00:00<00:00,  7.02it/s]\n",
            "                 Class     Images  Instances      Box(P          R      mAP50  mAP50-95): 100% 1/1 [00:00<00:00,  8.06it/s]\n",
            "                   all          7        610      0.619      0.295       0.24      0.108\n",
            "\n",
            "      Epoch    GPU_mem   box_loss   cls_loss   dfl_loss  Instances       Size\n",
            "     27/200      8.16G      1.796      1.204      1.214       2371        640: 100% 5/5 [00:00<00:00,  7.73it/s]\n",
            "                 Class     Images  Instances      Box(P          R      mAP50  mAP50-95): 100% 1/1 [00:00<00:00,  8.03it/s]\n",
            "                   all          7        610      0.437      0.327      0.307      0.138\n",
            "\n",
            "      Epoch    GPU_mem   box_loss   cls_loss   dfl_loss  Instances       Size\n",
            "     28/200      8.08G      1.846      1.202       1.21       2468        640: 100% 5/5 [00:00<00:00,  7.22it/s]\n",
            "                 Class     Images  Instances      Box(P          R      mAP50  mAP50-95): 100% 1/1 [00:00<00:00, 10.53it/s]\n",
            "                   all          7        610      0.338      0.465      0.413      0.196\n",
            "\n",
            "      Epoch    GPU_mem   box_loss   cls_loss   dfl_loss  Instances       Size\n",
            "     29/200      9.51G      1.837      1.268       1.25       1372        640: 100% 5/5 [00:00<00:00,  7.48it/s]\n",
            "                 Class     Images  Instances      Box(P          R      mAP50  mAP50-95): 100% 1/1 [00:00<00:00, 10.29it/s]\n",
            "                   all          7        610      0.641      0.341      0.424      0.211\n",
            "\n",
            "      Epoch    GPU_mem   box_loss   cls_loss   dfl_loss  Instances       Size\n",
            "     30/200      7.95G      1.776      1.182      1.203       1755        640: 100% 5/5 [00:00<00:00,  7.37it/s]\n",
            "                 Class     Images  Instances      Box(P          R      mAP50  mAP50-95): 100% 1/1 [00:00<00:00,  8.10it/s]\n",
            "                   all          7        610      0.712      0.349      0.342      0.156\n",
            "\n",
            "      Epoch    GPU_mem   box_loss   cls_loss   dfl_loss  Instances       Size\n",
            "     31/200      7.99G      1.792      1.201      1.221       1743        640: 100% 5/5 [00:00<00:00,  7.22it/s]\n",
            "                 Class     Images  Instances      Box(P          R      mAP50  mAP50-95): 100% 1/1 [00:00<00:00,  8.71it/s]\n",
            "                   all          7        610      0.742      0.352       0.34      0.165\n",
            "\n",
            "      Epoch    GPU_mem   box_loss   cls_loss   dfl_loss  Instances       Size\n",
            "     32/200      9.04G      1.777       1.25      1.276       1556        640: 100% 5/5 [00:00<00:00,  6.97it/s]\n",
            "                 Class     Images  Instances      Box(P          R      mAP50  mAP50-95): 100% 1/1 [00:00<00:00,  7.79it/s]\n",
            "                   all          7        610      0.702      0.374      0.359      0.177\n",
            "\n",
            "      Epoch    GPU_mem   box_loss   cls_loss   dfl_loss  Instances       Size\n",
            "     33/200      8.87G      1.764      1.186      1.233       1390        640: 100% 5/5 [00:00<00:00,  6.92it/s]\n",
            "                 Class     Images  Instances      Box(P          R      mAP50  mAP50-95): 100% 1/1 [00:00<00:00,  8.00it/s]\n",
            "                   all          7        610      0.702      0.358      0.404        0.2\n",
            "\n",
            "      Epoch    GPU_mem   box_loss   cls_loss   dfl_loss  Instances       Size\n",
            "     34/200      8.04G      1.744      1.193      1.213       1392        640: 100% 5/5 [00:00<00:00,  7.15it/s]\n",
            "                 Class     Images  Instances      Box(P          R      mAP50  mAP50-95): 100% 1/1 [00:00<00:00,  8.31it/s]\n",
            "                   all          7        610      0.735      0.328       0.39      0.184\n",
            "\n",
            "      Epoch    GPU_mem   box_loss   cls_loss   dfl_loss  Instances       Size\n",
            "     35/200      7.99G      1.759      1.206       1.21       1862        640: 100% 5/5 [00:00<00:00,  6.95it/s]\n",
            "                 Class     Images  Instances      Box(P          R      mAP50  mAP50-95): 100% 1/1 [00:00<00:00,  8.54it/s]\n",
            "                   all          7        610        0.7       0.33      0.385      0.181\n",
            "\n",
            "      Epoch    GPU_mem   box_loss   cls_loss   dfl_loss  Instances       Size\n",
            "     36/200      7.32G      1.787      1.289      1.211       2467        640: 100% 5/5 [00:00<00:00,  6.72it/s]\n",
            "                 Class     Images  Instances      Box(P          R      mAP50  mAP50-95): 100% 1/1 [00:00<00:00,  7.52it/s]\n",
            "                   all          7        610      0.702      0.329      0.358      0.156\n",
            "\n",
            "      Epoch    GPU_mem   box_loss   cls_loss   dfl_loss  Instances       Size\n",
            "     37/200      8.25G      1.728      1.205      1.183       1508        640: 100% 5/5 [00:00<00:00,  7.18it/s]\n",
            "                 Class     Images  Instances      Box(P          R      mAP50  mAP50-95): 100% 1/1 [00:00<00:00,  8.76it/s]\n",
            "                   all          7        610      0.216      0.554      0.391       0.17\n",
            "\n",
            "      Epoch    GPU_mem   box_loss   cls_loss   dfl_loss  Instances       Size\n",
            "     38/200      6.41G      1.696      1.176      1.186       1233        640: 100% 5/5 [00:00<00:00,  7.17it/s]\n",
            "                 Class     Images  Instances      Box(P          R      mAP50  mAP50-95): 100% 1/1 [00:00<00:00,  8.05it/s]\n",
            "                   all          7        610       0.49      0.462      0.382       0.17\n",
            "\n",
            "      Epoch    GPU_mem   box_loss   cls_loss   dfl_loss  Instances       Size\n",
            "     39/200      7.65G      1.758      1.191       1.19       2123        640: 100% 5/5 [00:00<00:00,  7.29it/s]\n",
            "                 Class     Images  Instances      Box(P          R      mAP50  mAP50-95): 100% 1/1 [00:00<00:00,  7.68it/s]\n",
            "                   all          7        610      0.641       0.41      0.391      0.181\n",
            "\n",
            "      Epoch    GPU_mem   box_loss   cls_loss   dfl_loss  Instances       Size\n",
            "     40/200      8.35G      1.708      1.209      1.204       1891        640: 100% 5/5 [00:00<00:00,  7.08it/s]\n",
            "                 Class     Images  Instances      Box(P          R      mAP50  mAP50-95): 100% 1/1 [00:00<00:00,  7.58it/s]\n",
            "                   all          7        610      0.495      0.324      0.353      0.176\n",
            "\n",
            "      Epoch    GPU_mem   box_loss   cls_loss   dfl_loss  Instances       Size\n",
            "     41/200      6.38G      1.733      1.182      1.216       1242        640: 100% 5/5 [00:00<00:00,  7.04it/s]\n",
            "                 Class     Images  Instances      Box(P          R      mAP50  mAP50-95): 100% 1/1 [00:00<00:00,  7.09it/s]\n",
            "                   all          7        610      0.481      0.357      0.326      0.162\n",
            "\n",
            "      Epoch    GPU_mem   box_loss   cls_loss   dfl_loss  Instances       Size\n",
            "     42/200      7.24G      1.635      1.133      1.215        913        640: 100% 5/5 [00:00<00:00,  7.90it/s]\n",
            "                 Class     Images  Instances      Box(P          R      mAP50  mAP50-95): 100% 1/1 [00:00<00:00, 10.45it/s]\n",
            "                   all          7        610      0.713      0.336      0.336      0.166\n",
            "\n",
            "      Epoch    GPU_mem   box_loss   cls_loss   dfl_loss  Instances       Size\n",
            "     43/200      6.28G      1.717      1.195      1.231       1118        640: 100% 5/5 [00:00<00:00,  7.97it/s]\n",
            "                 Class     Images  Instances      Box(P          R      mAP50  mAP50-95): 100% 1/1 [00:00<00:00,  7.95it/s]\n",
            "                   all          7        610      0.567      0.392      0.353      0.171\n",
            "\n",
            "      Epoch    GPU_mem   box_loss   cls_loss   dfl_loss  Instances       Size\n",
            "     44/200      8.95G      1.678      1.135      1.204       1422        640: 100% 5/5 [00:00<00:00,  7.18it/s]\n",
            "                 Class     Images  Instances      Box(P          R      mAP50  mAP50-95): 100% 1/1 [00:00<00:00,  9.52it/s]\n",
            "                   all          7        610      0.525      0.467      0.391      0.194\n",
            "\n",
            "      Epoch    GPU_mem   box_loss   cls_loss   dfl_loss  Instances       Size\n",
            "     45/200      9.04G      1.702       1.11      1.186       1490        640: 100% 5/5 [00:00<00:00,  7.57it/s]\n",
            "                 Class     Images  Instances      Box(P          R      mAP50  mAP50-95): 100% 1/1 [00:00<00:00,  9.28it/s]\n",
            "                   all          7        610      0.271      0.553      0.414      0.201\n",
            "\n",
            "      Epoch    GPU_mem   box_loss   cls_loss   dfl_loss  Instances       Size\n",
            "     46/200      6.45G      1.682      1.132      1.197        980        640: 100% 5/5 [00:00<00:00,  7.87it/s]\n",
            "                 Class     Images  Instances      Box(P          R      mAP50  mAP50-95): 100% 1/1 [00:00<00:00,  9.01it/s]\n",
            "                   all          7        610        0.3      0.541      0.429      0.202\n",
            "\n",
            "      Epoch    GPU_mem   box_loss   cls_loss   dfl_loss  Instances       Size\n",
            "     47/200      9.53G      1.656      1.094       1.18       1231        640: 100% 5/5 [00:00<00:00,  7.46it/s]\n",
            "                 Class     Images  Instances      Box(P          R      mAP50  mAP50-95): 100% 1/1 [00:00<00:00,  9.26it/s]\n",
            "                   all          7        610      0.758      0.355      0.378      0.173\n",
            "\n",
            "      Epoch    GPU_mem   box_loss   cls_loss   dfl_loss  Instances       Size\n",
            "     48/200      6.07G      1.698      1.088      1.174       1848        640: 100% 5/5 [00:00<00:00,  7.07it/s]\n",
            "                 Class     Images  Instances      Box(P          R      mAP50  mAP50-95): 100% 1/1 [00:00<00:00, 11.24it/s]\n",
            "                   all          7        610      0.724      0.366      0.377      0.177\n",
            "\n",
            "      Epoch    GPU_mem   box_loss   cls_loss   dfl_loss  Instances       Size\n",
            "     49/200      8.85G      1.669        1.1      1.171       1275        640: 100% 5/5 [00:00<00:00,  7.03it/s]\n",
            "                 Class     Images  Instances      Box(P          R      mAP50  mAP50-95): 100% 1/1 [00:00<00:00,  8.69it/s]\n",
            "                   all          7        610      0.315      0.501      0.414       0.19\n",
            "\n",
            "      Epoch    GPU_mem   box_loss   cls_loss   dfl_loss  Instances       Size\n",
            "     50/200      8.27G      1.628      1.045      1.172       1566        640: 100% 5/5 [00:00<00:00,  7.11it/s]\n",
            "                 Class     Images  Instances      Box(P          R      mAP50  mAP50-95): 100% 1/1 [00:00<00:00,  7.94it/s]\n",
            "                   all          7        610      0.712      0.368      0.429      0.187\n",
            "\n",
            "      Epoch    GPU_mem   box_loss   cls_loss   dfl_loss  Instances       Size\n",
            "     51/200      7.07G      1.638      1.095      1.189        738        640: 100% 5/5 [00:00<00:00,  7.89it/s]\n",
            "                 Class     Images  Instances      Box(P          R      mAP50  mAP50-95): 100% 1/1 [00:00<00:00,  9.28it/s]\n",
            "                   all          7        610      0.729      0.363      0.391      0.182\n",
            "\n",
            "      Epoch    GPU_mem   box_loss   cls_loss   dfl_loss  Instances       Size\n",
            "     52/200      8.12G      1.783      1.111      1.232       1330        640: 100% 5/5 [00:00<00:00,  7.61it/s]\n",
            "                 Class     Images  Instances      Box(P          R      mAP50  mAP50-95): 100% 1/1 [00:00<00:00, 12.87it/s]\n",
            "                   all          7        610       0.62      0.461      0.446      0.224\n",
            "\n",
            "      Epoch    GPU_mem   box_loss   cls_loss   dfl_loss  Instances       Size\n",
            "     53/200      7.09G      1.735      1.063      1.194       1114        640: 100% 5/5 [00:00<00:00,  7.18it/s]\n",
            "                 Class     Images  Instances      Box(P          R      mAP50  mAP50-95): 100% 1/1 [00:00<00:00,  9.03it/s]\n",
            "                   all          7        610      0.643      0.466      0.447       0.23\n",
            "\n",
            "      Epoch    GPU_mem   box_loss   cls_loss   dfl_loss  Instances       Size\n",
            "  0% 0/5 [00:00<?, ?it/s]"
          ]
        }
      ],
      "source": [
        "\n",
        "%cd {Experiment.EXPERIMENT_HOME}\n",
        "!yolo task=detect mode=train model={Experiment.MODEL_NAME}.pt data={dataset.location}/data.yaml epochs={Experiment.EPOCHS} imgsz={Experiment.IMGSZ} plots=True"
      ]
    },
    {
      "cell_type": "code",
      "execution_count": null,
      "metadata": {
        "id": "1MScstfHhArr"
      },
      "outputs": [],
      "source": [
        "TRAIN_NUMBER = ''\n",
        "!ls {Experiment.EXPERIMENT_HOME}/runs/detect/train{TRAIN_NUMBER}/"
      ]
    },
    {
      "cell_type": "code",
      "execution_count": null,
      "metadata": {
        "id": "_J35i8Ofhjxa"
      },
      "outputs": [],
      "source": [
        "%cd {Experiment.EXPERIMENT_HOME}\n",
        "Image(filename=f'{Experiment.EXPERIMENT_HOME}/runs/detect/train{TRAIN_NUMBER}/confusion_matrix.png', width=600)"
      ]
    },
    {
      "cell_type": "code",
      "execution_count": null,
      "metadata": {
        "id": "A-urTWUkhRmn"
      },
      "outputs": [],
      "source": [
        "%cd {Experiment.EXPERIMENT_HOME}\n",
        "Image(filename=f'{Experiment.EXPERIMENT_HOME}/runs/detect/train{TRAIN_NUMBER}/results.png', width=600)"
      ]
    },
    {
      "cell_type": "code",
      "execution_count": null,
      "metadata": {
        "id": "HI4nADCCj3F5"
      },
      "outputs": [],
      "source": [
        "%cd {Experiment.EXPERIMENT_HOME}\n",
        "Image(filename=f'{Experiment.EXPERIMENT_HOME}/runs/detect/train{TRAIN_NUMBER}/val_batch0_pred.jpg', width=600)"
      ]
    },
    {
      "cell_type": "markdown",
      "metadata": {
        "id": "6ODk1VTlevxn"
      },
      "source": [
        "## Validate Custom Model"
      ]
    },
    {
      "cell_type": "code",
      "execution_count": null,
      "metadata": {
        "id": "YpyuwrNlXc1P"
      },
      "outputs": [],
      "source": [
        "%cd {Experiment.EXPERIMENT_HOME}\n",
        "\n",
        "!yolo task=detect mode=val model={Experiment.EXPERIMENT_HOME}/runs/detect/train{TRAIN_NUMBER}/weights/best.pt data={dataset.location}/data.yaml"
      ]
    },
    {
      "cell_type": "markdown",
      "metadata": {
        "id": "i4eASbcWkQBq"
      },
      "source": [
        "## Inference with Custom Model"
      ]
    },
    {
      "cell_type": "code",
      "execution_count": null,
      "metadata": {
        "id": "Wjc1ctZykYuf"
      },
      "outputs": [],
      "source": [
        "%cd {Experiment.EXPERIMENT_HOME}\n",
        "!yolo task=detect mode=predict model={Experiment.EXPERIMENT_HOME}/runs/detect/train{TRAIN_NUMBER}/weights/best.pt conf=0.30 source={dataset.location}/test/images save=True\n",
        "\n"
      ]
    },
    {
      "cell_type": "markdown",
      "metadata": {
        "id": "mEYIo95n-I0S"
      },
      "source": [
        "\n",
        "Inspect results."
      ]
    },
    {
      "cell_type": "code",
      "execution_count": null,
      "metadata": {
        "id": "jbVjEtPAkz3j"
      },
      "outputs": [],
      "source": [
        "PREDICT_NUMBER = ''\n",
        "import glob\n",
        "from IPython.display import Image, display\n",
        "\n",
        "for image_path in glob.glob(f'{Experiment.EXPERIMENT_HOME}/runs/detect/predict{PREDICT_NUMBER}/*.jpg')[:3]:\n",
        "      display(Image(filename=image_path, width=600))\n",
        "      print(\"\\n\")"
      ]
    },
    {
      "cell_type": "markdown",
      "metadata": {
        "id": "j0tsVilOCPyq"
      },
      "source": [
        "## Saving the model weight to Google Drive\n",
        "\n",
        "Store the best weight to Google Drive\n",
        "/content/drive/MyDrive/ai/projects/palmtree/experiments/"
      ]
    },
    {
      "cell_type": "code",
      "source": [
        "!ls -altr {Experiment.EXPERIMENT_HOME}/runs/detect/train/weights\n",
        "!rm -fR {Experiment.EXPERIMENT_DRIVE}\n",
        "!mkdir -p {Experiment.EXPERIMENT_DRIVE}\n",
        "!cp -fpR {Experiment.EXPERIMENT_HOME}/runs {Experiment.EXPERIMENT_DRIVE}\n",
        "!cp {Experiment.EXPERIMENT_HOME}/runs/detect/train/weights/best.pt {Experiment.WEIGHTS_DRIVE}"
      ],
      "metadata": {
        "id": "jtlLCNdCS3tg"
      },
      "execution_count": null,
      "outputs": []
    }
  ],
  "metadata": {
    "accelerator": "GPU",
    "colab": {
      "provenance": [],
      "gpuType": "V100",
      "machine_shape": "hm",
      "include_colab_link": true
    },
    "kernelspec": {
      "display_name": "Python 3",
      "name": "python3"
    },
    "language_info": {
      "name": "python"
    }
  },
  "nbformat": 4,
  "nbformat_minor": 0
}